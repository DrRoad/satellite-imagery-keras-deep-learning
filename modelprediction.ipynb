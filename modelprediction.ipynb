{
 "cells": [
  {
   "cell_type": "code",
   "execution_count": 1,
   "metadata": {
    "collapsed": false
   },
   "outputs": [
    {
     "name": "stderr",
     "output_type": "stream",
     "text": [
      "Using Theano backend.\n",
      "Using cuDNN version 5110 on context None\n",
      "Mapped name None to device cuda: GeForce GTX 1060 6GB (0000:01:00.0)\n"
     ]
    }
   ],
   "source": [
    "import numpy as np\n",
    "import numpy.ma as ma\n",
    "import pandas as pd\n",
    "import os\n",
    "import sys\n",
    "import gc\n",
    "import json\n",
    "import configparser\n",
    "from datetime import datetime\n",
    "import time\n",
    "\n",
    "from utils.f2thresholdfinder import *\n",
    "from utils.loaderjpg import *\n",
    "from utils.generator import *\n",
    "from utils.custommetrics import *\n",
    "from utils.predictorjpg import *\n",
    "from utils.file import *\n",
    "\n",
    "from pretrained.custommodels import *"
   ]
  },
  {
   "cell_type": "code",
   "execution_count": 2,
   "metadata": {
    "collapsed": false
   },
   "outputs": [
    {
     "name": "stdout",
     "output_type": "stream",
     "text": [
      "loading model weights file: D:/Downloads/amazon/bottleneck/densenet121/frozen73_20170716-171641_weights_only.h5\n"
     ]
    }
   ],
   "source": [
    "labels = ['slash_burn', 'clear', 'blooming', 'primary', 'cloudy', 'conventional_mine', 'water', 'haze', 'cultivation', 'partly_cloudy', 'artisinal_mine', 'habitation', 'bare_ground', 'blow_down', 'agriculture', 'road', 'selective_logging']\n",
    "\n",
    "file_uuid = time.strftime(\"%Y%m%d-%H%M%S\")\n",
    "\n",
    "data_dir = 'D:/Downloads/amazon/'\n",
    "\n",
    "rescaled_dim = 224\n",
    "\n",
    "model_name = 'densenet121'\n",
    "\n",
    "should_load_model = False\n",
    "\n",
    "model_filepath = None\n",
    "weights_filepath = 'D:/Downloads/amazon/bottleneck/densenet121/frozen73_20170716-171641_weights_only.h5'\n",
    "\n",
    "if should_load_model:\n",
    "    print('loading model file: {}'.format(model_filepath))\n",
    "    model = load_model(model_filepath)\n",
    "else:\n",
    "    print('loading model weights file: {}'.format(weights_filepath))\n",
    "    model = custom_top_model(model_name, num_classes=17, num_frozen_layers=0)\n",
    "    model.load_weights(weights_filepath)\n",
    "    \n"
   ]
  },
  {
   "cell_type": "code",
   "execution_count": 3,
   "metadata": {
    "collapsed": false
   },
   "outputs": [
    {
     "name": "stdout",
     "output_type": "stream",
     "text": [
      "(40479L, 224L, 224L, 3L)\n",
      "(40479L, 17L)\n"
     ]
    }
   ],
   "source": [
    "df_train = pd.read_csv(data_dir + 'train_v2.csv')\n",
    "x_train, y_train = load_training_set(df_train, rescaled_dim)\n",
    "print(x_train.shape)\n",
    "print(y_train.shape)"
   ]
  },
  {
   "cell_type": "code",
   "execution_count": 4,
   "metadata": {
    "collapsed": true
   },
   "outputs": [],
   "source": [
    "number_of_samples = x_train.shape[0]\n",
    "split = int(number_of_samples * 0.90)\n",
    "                     \n",
    "x_valid, y_valid = x_train[split:], y_train[split:]\n",
    "\n",
    "del x_train\n",
    "del y_train\n",
    "\n",
    "number_validations = number_of_samples - split"
   ]
  },
  {
   "cell_type": "code",
   "execution_count": 5,
   "metadata": {
    "collapsed": true
   },
   "outputs": [],
   "source": [
    "img_normalization = image_normalization_func(model_name)\n",
    "valid_datagen = BottleNeckImgGenerator(normalization=img_normalization)"
   ]
  },
  {
   "cell_type": "code",
   "execution_count": 6,
   "metadata": {
    "collapsed": false,
    "scrolled": true
   },
   "outputs": [
    {
     "name": "stderr",
     "output_type": "stream",
     "text": [
      "C:\\Users\\Me\\Anaconda2\\lib\\site-packages\\sklearn\\metrics\\classification.py:1113: UndefinedMetricWarning: F-score is ill-defined and being set to 0.0 in samples with no predicted labels.\n",
      "  'precision', 'predicted', average, warn_for)\n"
     ]
    },
    {
     "name": "stdout",
     "output_type": "stream",
     "text": [
      "label:0 threshold:0.26 score:0.9010781626\n",
      "label:1 threshold:0.12 score:0.905239313339\n",
      "label:2 threshold:0.26 score:0.905523334487\n",
      "label:3 threshold:0.21 score:0.907586584475\n",
      "label:4 threshold:0.05 score:0.913399055916\n",
      "label:5 threshold:0.2 score:0.913429534331\n",
      "label:6 threshold:0.24 score:0.915529668249\n",
      "label:7 threshold:0.29 score:0.916536361744\n",
      "label:8 threshold:0.2 score:0.919284178811\n",
      "label:9 threshold:0.05 score:0.92040775337\n",
      "label:10 threshold:0.04 score:0.920597313982\n",
      "label:11 threshold:0.14 score:0.922680070835\n",
      "label:12 threshold:0.18 score:0.923829673004\n",
      "label:13 threshold:0.12 score:0.924152134005\n",
      "label:14 threshold:0.19 score:0.928874002639\n",
      "label:15 threshold:0.13 score:0.932059600726\n",
      "label:16 threshold:0.25 score:0.932172400117\n",
      "('>>>> Overall precision score over validation set ', 0.87611411082878465)\n",
      "('>>>> Overall recall score over validation set ', 0.95902826792772444)\n",
      "('>>>> Overall F2 score over validation set ', 0.93217240011738645)\n",
      "                label  optimized_threshold\n",
      "0          slash_burn                 0.26\n",
      "1               clear                 0.12\n",
      "2            blooming                 0.26\n",
      "3             primary                 0.21\n",
      "4              cloudy                 0.05\n",
      "5   conventional_mine                 0.20\n",
      "6               water                 0.24\n",
      "7                haze                 0.29\n",
      "8         cultivation                 0.20\n",
      "9       partly_cloudy                 0.05\n",
      "10     artisinal_mine                 0.04\n",
      "11         habitation                 0.14\n",
      "12        bare_ground                 0.18\n",
      "13          blow_down                 0.12\n",
      "14        agriculture                 0.19\n",
      "15               road                 0.13\n",
      "16  selective_logging                 0.25\n"
     ]
    }
   ],
   "source": [
    "y_predictions, optimized_thresholds = predict_with_optimal_thresholds(x_valid, y_valid, valid_datagen, model)\n",
    "\n",
    "threshold_df = pd.DataFrame({'label':labels, \n",
    "                             'optimized_threshold':optimized_thresholds})\n",
    "print(threshold_df)"
   ]
  },
  {
   "cell_type": "code",
   "execution_count": 7,
   "metadata": {
    "collapsed": true
   },
   "outputs": [],
   "source": [
    "sample_submission_filepath = data_dir + 'sample_submission_v2.csv'\n",
    "real_submission_filepath = data_dir + 'my_submissions/submission_{}_{}.csv'.format(model_name, file_uuid)\n",
    "\n",
    "img_normalization = image_normalization_func(model_name)\n",
    "test_datagen = BottleNeckImgGenerator(normalization=img_normalization)"
   ]
  },
  {
   "cell_type": "code",
   "execution_count": 8,
   "metadata": {
    "collapsed": false
   },
   "outputs": [
    {
     "name": "stderr",
     "output_type": "stream",
     "text": [
      "100%|██████████████████████████████████████████████████████████████████████████| 61191/61191 [00:59<00:00, 1036.47it/s]\n"
     ]
    },
    {
     "name": "stdout",
     "output_type": "stream",
     "text": [
      "submission file generated: D:/Downloads/amazon/my_submissions/submission_densenet121_20170716-214237.csv\n"
     ]
    }
   ],
   "source": [
    "make_submission(model,\n",
    "                optimized_thresholds,\n",
    "                rescaled_dim, \n",
    "                labels,\n",
    "                sample_submission_filepath,\n",
    "                real_submission_filepath,\n",
    "                test_datagen)"
   ]
  }
 ],
 "metadata": {
  "kernelspec": {
   "display_name": "Python 2",
   "language": "python",
   "name": "python2"
  },
  "language_info": {
   "codemirror_mode": {
    "name": "ipython",
    "version": 2
   },
   "file_extension": ".py",
   "mimetype": "text/x-python",
   "name": "python",
   "nbconvert_exporter": "python",
   "pygments_lexer": "ipython2",
   "version": "2.7.13"
  }
 },
 "nbformat": 4,
 "nbformat_minor": 2
}
