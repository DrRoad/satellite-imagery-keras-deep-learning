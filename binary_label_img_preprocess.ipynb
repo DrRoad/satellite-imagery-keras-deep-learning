{
 "cells": [
  {
   "cell_type": "code",
   "execution_count": 1,
   "metadata": {
    "collapsed": true
   },
   "outputs": [],
   "source": [
    "import numpy as np\n",
    "import pandas as pd # data processing, CSV file I/O (e.g. pd.read_csv)\n",
    "import os\n",
    "import gc\n",
    "from shutil import copyfile\n",
    "from shutil import move\n",
    "import re\n",
    "import random\n",
    "\n",
    "data_dir = 'D:/Downloads/amazon/'\n",
    "\n",
    "# ['slash_burn', 'blooming', 'primary', 'conventional_mine', 'water', 'cultivation', 'artisinal_mine', 'habitation', 'bare_ground', 'blow_down', 'agriculture', 'road', 'selective_logging']\n",
    "target_label = 'agriculture'\n",
    "\n",
    "preprocess_train_dir = data_dir + 'prep/' + target_label + '/train-jpg/'\n",
    "preprocess_validation_dir = data_dir + 'prep/' + target_label + '/validation-jpg/'\n",
    "\n",
    "validation_fraction = 0.2  # fraction of original training set to be used for validation set\n",
    "\n",
    "df = pd.read_csv(data_dir + 'train.csv')"
   ]
  },
  {
   "cell_type": "code",
   "execution_count": 6,
   "metadata": {
    "collapsed": true
   },
   "outputs": [],
   "source": [
    "# copy images to the positive/ and negative/ folder.  \n",
    "# this is a preprocessing step for using Keras ImageDataGenerator.flow_from_directory.\n",
    "\n",
    "def preprocessImageFileForIndex(index, target):\n",
    "    source_filename = df.iloc[index]['image_name'] + '.jpg'\n",
    "    #print(source_filename)\n",
    "    #print(df.iloc[index]['tags'])\n",
    "\n",
    "    data_src_dir = data_dir + 'train-jpg/'\n",
    "\n",
    "    words = df.iloc[index]['tags'].split()\n",
    "    if target in words:\n",
    "        copyfile(data_src_dir + source_filename, preprocess_train_dir + 'positive/'+ source_filename)\n",
    "    else:\n",
    "        copyfile(data_src_dir + source_filename, preprocess_train_dir + 'negative/'+ source_filename)"
   ]
  },
  {
   "cell_type": "code",
   "execution_count": 8,
   "metadata": {
    "collapsed": true
   },
   "outputs": [],
   "source": [
    "def makedir(path):\n",
    "    if not os.path.exists(path):\n",
    "        os.makedirs(path)\n",
    "\n",
    "makedir(preprocess_train_dir)\n",
    "makedir(preprocess_train_dir + 'positive/')\n",
    "makedir(preprocess_train_dir + 'negative/')\n",
    "makedir(preprocess_validation_dir)\n",
    "makedir(preprocess_validation_dir + 'positive/')\n",
    "makedir(preprocess_validation_dir + 'negative/')"
   ]
  },
  {
   "cell_type": "code",
   "execution_count": 9,
   "metadata": {
    "collapsed": false
   },
   "outputs": [],
   "source": [
    "for index, row in df.iterrows():\n",
    "    preprocessImageFileForIndex(index, target_label)"
   ]
  },
  {
   "cell_type": "code",
   "execution_count": 10,
   "metadata": {
    "collapsed": true
   },
   "outputs": [],
   "source": [
    "# Move randomized samples to validation-jpg folder\n",
    "def randomTrainValidationSplit(validation_fraction, train_dir, validation_dir):\n",
    "    list_files = os.listdir(train_dir)\n",
    "    random.shuffle(list_files) # In-place shuffle\n",
    "    validation_size = int(round(len(list_files) * validation_fraction, 0))\n",
    "    print('validation_size:' , validation_size)\n",
    "    validation_files = list_files[0:validation_size]\n",
    "    for curr_file in validation_files:\n",
    "        src = train_dir + curr_file\n",
    "        dest = validation_dir + curr_file\n",
    "        #print ('src: ' + src)\n",
    "        #print ('dest: ' + dest)\n",
    "        move(src, dest)"
   ]
  },
  {
   "cell_type": "code",
   "execution_count": 11,
   "metadata": {
    "collapsed": false
   },
   "outputs": [
    {
     "name": "stdout",
     "output_type": "stream",
     "text": [
      "('validation_size:', 2468)\n",
      "('validation_size:', 5628)\n"
     ]
    }
   ],
   "source": [
    "randomTrainValidationSplit(validation_fraction, preprocess_train_dir + 'positive/', preprocess_validation_dir + 'positive/')\n",
    "randomTrainValidationSplit(validation_fraction, preprocess_train_dir + 'negative/', preprocess_validation_dir + 'negative/')"
   ]
  },
  {
   "cell_type": "code",
   "execution_count": null,
   "metadata": {
    "collapsed": true
   },
   "outputs": [],
   "source": [
    "print('preprocessing complete for ' + target_label)"
   ]
  },
  {
   "cell_type": "code",
   "execution_count": null,
   "metadata": {
    "collapsed": true
   },
   "outputs": [],
   "source": []
  }
 ],
 "metadata": {
  "kernelspec": {
   "display_name": "Python 2",
   "language": "python",
   "name": "python2"
  },
  "language_info": {
   "codemirror_mode": {
    "name": "ipython",
    "version": 2
   },
   "file_extension": ".py",
   "mimetype": "text/x-python",
   "name": "python",
   "nbconvert_exporter": "python",
   "pygments_lexer": "ipython2",
   "version": "2.7.13"
  }
 },
 "nbformat": 4,
 "nbformat_minor": 2
}
