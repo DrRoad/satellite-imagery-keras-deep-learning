{
 "cells": [
  {
   "cell_type": "code",
   "execution_count": 1,
   "metadata": {
    "collapsed": true
   },
   "outputs": [],
   "source": [
    "import numpy as np\n"
   ]
  },
  {
   "cell_type": "code",
   "execution_count": 2,
   "metadata": {
    "collapsed": false
   },
   "outputs": [
    {
     "name": "stdout",
     "output_type": "stream",
     "text": [
      "[ 0.42093261  0.14913387  0.63391138  0.48971825  0.00504723  0.57130804\n",
      "  0.13974253  0.45978831  0.77259516  0.15813683  0.94814605  0.6072078\n",
      "  0.90837131  0.1772447   0.38205895  0.13401803  0.15469654]\n"
     ]
    }
   ],
   "source": [
    "threshold = np.random.uniform(low=0.0, high=1.0, size=(17))\n",
    "print(threshold)"
   ]
  },
  {
   "cell_type": "code",
   "execution_count": 3,
   "metadata": {
    "collapsed": false
   },
   "outputs": [
    {
     "name": "stdout",
     "output_type": "stream",
     "text": [
      "[[ 0.49721692  0.1012928   0.70371746  0.53828992  0.00917702  0.71370048\n",
      "   0.93345699  0.34821938  0.68453325  0.44888585  0.82772317  0.05393448\n",
      "   0.61538369  0.42015519  0.40859124  0.66551978  0.02823762]\n",
      " [ 0.30300023  0.28559042  0.2201178   0.38488633  0.11034169  0.97654916\n",
      "   0.44070378  0.33091546  0.64994919  0.05688013  0.1393305   0.72638182\n",
      "   0.22740327  0.05713118  0.7216003   0.24499145  0.18953515]\n",
      " [ 0.59065962  0.81722452  0.40903633  0.42170739  0.39667027  0.80929992\n",
      "   0.76103229  0.38078637  0.65911534  0.87776365  0.50144026  0.81984338\n",
      "   0.3783606   0.4081313   0.63913089  0.34667155  0.88494811]\n",
      " [ 0.84261523  0.85211929  0.27348604  0.30858476  0.85561856  0.03505926\n",
      "   0.15135409  0.99787276  0.39677107  0.27913843  0.26044911  0.49992918\n",
      "   0.06928552  0.89925118  0.47967116  0.40172569  0.3141475 ]\n",
      " [ 0.35223237  0.38215542  0.72586467  0.7729962   0.37456549  0.62851933\n",
      "   0.24419502  0.593015    0.97064324  0.53279914  0.71320748  0.51295731\n",
      "   0.55042283  0.25346224  0.0286985   0.91645132  0.14517351]\n",
      " [ 0.37488892  0.75432343  0.9449494   0.56941413  0.23438974  0.21773892\n",
      "   0.15347514  0.72518178  0.57021063  0.66148653  0.71176779  0.49350872\n",
      "   0.87187188  0.14545512  0.98416005  0.42993655  0.8819874 ]\n",
      " [ 0.25595771  0.90182555  0.01173282  0.32422188  0.544301    0.0092138\n",
      "   0.9873573   0.7930303   0.14636551  0.26435133  0.77782259  0.22818752\n",
      "   0.4746362   0.66174007  0.37550543  0.81898532  0.74546192]\n",
      " [ 0.23522354  0.13276176  0.70747553  0.93363689  0.54414261  0.36843531\n",
      "   0.45361115  0.10396792  0.04372212  0.04373584  0.51521778  0.71236391\n",
      "   0.75996823  0.80697574  0.31204391  0.30859797  0.46306835]\n",
      " [ 0.55942903  0.23816299  0.12313418  0.35225038  0.3853267   0.89957862\n",
      "   0.98716861  0.21021022  0.93890057  0.97879855  0.10576843  0.45530162\n",
      "   0.97388817  0.94261741  0.28294708  0.42012028  0.23714933]\n",
      " [ 0.43373545  0.36369741  0.16274332  0.75547688  0.0729858   0.07061349\n",
      "   0.67767485  0.27214923  0.34200826  0.77156908  0.24487095  0.19516628\n",
      "   0.6494998   0.18617653  0.59242183  0.63426479  0.83617474]]\n"
     ]
    }
   ],
   "source": [
    "pred = np.random.uniform(low=0.0, high=1.0, size=(10,17))\n",
    "print(pred)"
   ]
  },
  {
   "cell_type": "code",
   "execution_count": 4,
   "metadata": {
    "collapsed": false
   },
   "outputs": [
    {
     "name": "stdout",
     "output_type": "stream",
     "text": [
      "[[ True False  True  True  True  True  True False False  True False False\n",
      "  False  True  True  True False]\n",
      " [False  True False False  True  True  True False False False False  True\n",
      "  False False  True  True  True]\n",
      " [ True  True False False  True  True  True False False  True False  True\n",
      "  False  True  True  True  True]\n",
      " [ True  True False False  True False  True  True False  True False False\n",
      "  False  True  True  True  True]\n",
      " [False  True  True  True  True  True  True  True  True  True False False\n",
      "  False  True False  True False]\n",
      " [False  True  True  True  True False  True  True False  True False False\n",
      "  False False  True  True  True]\n",
      " [False  True False False  True False  True  True False  True False False\n",
      "  False  True False  True  True]\n",
      " [False False  True  True  True False  True False False False False  True\n",
      "  False  True False  True  True]\n",
      " [ True  True False False  True  True  True False  True  True False False\n",
      "   True  True False  True  True]\n",
      " [ True  True False  True  True False  True False False  True False False\n",
      "  False  True  True  True  True]]\n"
     ]
    }
   ],
   "source": [
    "t = pred > threshold\n",
    "print (t)"
   ]
  },
  {
   "cell_type": "code",
   "execution_count": 5,
   "metadata": {
    "collapsed": false
   },
   "outputs": [
    {
     "name": "stdout",
     "output_type": "stream",
     "text": [
      "0.01\n"
     ]
    }
   ],
   "source": [
    "m = 1\n",
    "m /= float(100)\n",
    "print (m)"
   ]
  },
  {
   "cell_type": "code",
   "execution_count": 6,
   "metadata": {
    "collapsed": false
   },
   "outputs": [
    {
     "data": {
      "text/plain": [
       "[1, 2, 3]"
      ]
     },
     "execution_count": 6,
     "metadata": {},
     "output_type": "execute_result"
    }
   ],
   "source": [
    "abc = [1,2,3,4,5,6]\n",
    "abc[:3]"
   ]
  },
  {
   "cell_type": "code",
   "execution_count": 8,
   "metadata": {
    "collapsed": false
   },
   "outputs": [
    {
     "name": "stdout",
     "output_type": "stream",
     "text": [
      "10\n",
      "17\n"
     ]
    }
   ],
   "source": [
    "print(pred.shape[0])\n",
    "print(pred.shape[1])"
   ]
  },
  {
   "cell_type": "code",
   "execution_count": 9,
   "metadata": {
    "collapsed": false
   },
   "outputs": [
    {
     "ename": "AttributeError",
     "evalue": "'list' object has no attribute 'shape'",
     "output_type": "error",
     "traceback": [
      "\u001b[0;31m---------------------------------------------------------------------------\u001b[0m",
      "\u001b[0;31mAttributeError\u001b[0m                            Traceback (most recent call last)",
      "\u001b[0;32m<ipython-input-9-5c6f550b4616>\u001b[0m in \u001b[0;36m<module>\u001b[0;34m()\u001b[0m\n\u001b[1;32m      1\u001b[0m \u001b[0mhaha\u001b[0m \u001b[1;33m=\u001b[0m \u001b[1;33m[\u001b[0m\u001b[1;36m1\u001b[0m\u001b[1;33m,\u001b[0m\u001b[1;36m2\u001b[0m\u001b[1;33m,\u001b[0m\u001b[1;36m3\u001b[0m\u001b[1;33m]\u001b[0m\u001b[1;33m\u001b[0m\u001b[0m\n\u001b[0;32m----> 2\u001b[0;31m \u001b[0mhaha\u001b[0m\u001b[1;33m.\u001b[0m\u001b[0mshape\u001b[0m\u001b[1;33m[\u001b[0m\u001b[1;36m0\u001b[0m\u001b[1;33m]\u001b[0m\u001b[1;33m\u001b[0m\u001b[0m\n\u001b[0m",
      "\u001b[0;31mAttributeError\u001b[0m: 'list' object has no attribute 'shape'"
     ]
    }
   ],
   "source": [
    "haha = [1,2,3]\n",
    "haha.shape[0]"
   ]
  },
  {
   "cell_type": "code",
   "execution_count": null,
   "metadata": {
    "collapsed": true
   },
   "outputs": [],
   "source": []
  }
 ],
 "metadata": {
  "kernelspec": {
   "display_name": "Python 2",
   "language": "python",
   "name": "python2"
  },
  "language_info": {
   "codemirror_mode": {
    "name": "ipython",
    "version": 2
   },
   "file_extension": ".py",
   "mimetype": "text/x-python",
   "name": "python",
   "nbconvert_exporter": "python",
   "pygments_lexer": "ipython2",
   "version": "2.7.13"
  }
 },
 "nbformat": 4,
 "nbformat_minor": 2
}
