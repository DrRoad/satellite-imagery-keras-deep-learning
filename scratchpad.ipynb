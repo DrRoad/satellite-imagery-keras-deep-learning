{
 "cells": [
  {
   "cell_type": "code",
   "execution_count": 1,
   "metadata": {
    "collapsed": false
   },
   "outputs": [],
   "source": [
    "import numpy as np\n",
    "import numpy.ma as ma\n",
    "import pandas as pd\n",
    "import matplotlib.pyplot as plt\n",
    "import matplotlib.cm as cm\n",
    "#from utils.models import *\n",
    "#from utils.align import *"
   ]
  },
  {
   "cell_type": "code",
   "execution_count": 10,
   "metadata": {
    "collapsed": false
   },
   "outputs": [
    {
     "name": "stdout",
     "output_type": "stream",
     "text": [
      "[ 0.98897945  0.86356926  0.00574615  0.20246553  0.83269828  0.94339513\n",
      "  0.32532105  0.73151853  0.98098446  0.10027523  0.55345299  0.6433027\n",
      "  0.93283794  0.51644266  0.88752097  0.14641542  0.67270878]\n"
     ]
    }
   ],
   "source": [
    "threshold = np.random.uniform(low=0.0, high=1.0, size=(17))\n",
    "print(threshold)"
   ]
  },
  {
   "cell_type": "code",
   "execution_count": 13,
   "metadata": {
    "collapsed": false
   },
   "outputs": [
    {
     "name": "stdout",
     "output_type": "stream",
     "text": [
      "[[ 0.71866931  0.37071542  0.25747142  0.19845476  0.82290012  0.87166765\n",
      "   0.1265113   0.91300897  0.06859385  0.76221252  0.18469959  0.325558\n",
      "   0.16164087  0.55684411  0.79472625  0.74226203  0.48453512]\n",
      " [ 0.0444302   0.76910368  0.27200232  0.1634991   0.05805072  0.19272633\n",
      "   0.44888826  0.07095029  0.40876541  0.82105426  0.91073469  0.6051755\n",
      "   0.92894975  0.82745031  0.00740463  0.69713487  0.61829663]\n",
      " [ 0.77686088  0.15377061  0.02851445  0.95569442  0.71947544  0.21670085\n",
      "   0.32697622  0.02554749  0.1174709   0.02948691  0.65272431  0.05120691\n",
      "   0.76012099  0.73926971  0.87221123  0.41290017  0.76049972]\n",
      " [ 0.52952774  0.51381025  0.59460923  0.11839231  0.68926683  0.08594834\n",
      "   0.40706969  0.33210222  0.18646349  0.40482549  0.38436788  0.69161606\n",
      "   0.82884268  0.50238951  0.93747478  0.96635731  0.88976185]\n",
      " [ 0.94144337  0.33030463  0.31716553  0.24162995  0.12037438  0.18881801\n",
      "   0.66298639  0.10343194  0.64933999  0.13148751  0.62434809  0.38691462\n",
      "   0.92334771  0.00703719  0.53587191  0.05169659  0.41555004]\n",
      " [ 0.54234013  0.5579735   0.14584427  0.85786049  0.80198018  0.50260294\n",
      "   0.77198961  0.03058313  0.0337608   0.91561612  0.13503382  0.33663172\n",
      "   0.55635676  0.65644195  0.79628146  0.39539955  0.87481744]\n",
      " [ 0.29273457  0.42855674  0.64513934  0.60575173  0.35626136  0.55940048\n",
      "   0.42086717  0.57578276  0.87134119  0.98754591  0.47396336  0.86116412\n",
      "   0.37524199  0.82295832  0.84967927  0.27433951  0.05030024]\n",
      " [ 0.81504751  0.58823272  0.32647449  0.23946618  0.51823502  0.00360021\n",
      "   0.57164502  0.48109065  0.25824187  0.72620223  0.55246629  0.74263997\n",
      "   0.57724925  0.56447121  0.25682864  0.36980376  0.7317275 ]\n",
      " [ 0.19638082  0.82406795  0.11280644  0.56300937  0.02082845  0.94057039\n",
      "   0.28676587  0.11995817  0.83437828  0.04210797  0.25922549  0.18968226\n",
      "   0.22923078  0.75438274  0.27295227  0.14727851  0.62525109]\n",
      " [ 0.13315457  0.06219986  0.75518776  0.81116958  0.69505312  0.23161594\n",
      "   0.09047205  0.79772676  0.50020807  0.11044756  0.67689795  0.88843434\n",
      "   0.3541627   0.72829771  0.35076763  0.25771835  0.63651938]]\n",
      "17\n"
     ]
    }
   ],
   "source": [
    "pred = np.random.uniform(low=0.0, high=1.0, size=(10,17))\n",
    "print(pred)\n",
    "print(pred.shape[1])"
   ]
  },
  {
   "cell_type": "code",
   "execution_count": 4,
   "metadata": {
    "collapsed": false
   },
   "outputs": [
    {
     "name": "stdout",
     "output_type": "stream",
     "text": [
      "[[ True  True False False False  True False  True  True False False  True\n",
      "   True False  True  True False]\n",
      " [ True  True  True False False False False False False False False  True\n",
      "  False False  True  True False]\n",
      " [ True  True False False False False  True False  True False False  True\n",
      "   True False  True  True  True]\n",
      " [False  True False False False False False  True False False False False\n",
      "  False False  True False  True]\n",
      " [ True  True False False False False  True False False False False False\n",
      "  False False False  True  True]\n",
      " [ True  True False False False False False False  True  True False  True\n",
      "  False False  True  True  True]\n",
      " [ True False False  True  True False  True False  True False False  True\n",
      "  False False  True  True False]\n",
      " [ True  True False False False False  True  True False  True False  True\n",
      "  False False  True False  True]\n",
      " [ True  True False  True False False False  True False  True False  True\n",
      "   True False  True  True  True]\n",
      " [ True False False  True False False  True  True False False False  True\n",
      "  False False  True False  True]]\n"
     ]
    }
   ],
   "source": [
    "t = pred > threshold\n",
    "print (t)"
   ]
  },
  {
   "cell_type": "code",
   "execution_count": 5,
   "metadata": {
    "collapsed": false
   },
   "outputs": [
    {
     "name": "stdout",
     "output_type": "stream",
     "text": [
      "0.01\n"
     ]
    }
   ],
   "source": [
    "m = 1\n",
    "m /= float(100)\n",
    "print (m)"
   ]
  },
  {
   "cell_type": "code",
   "execution_count": 6,
   "metadata": {
    "collapsed": false
   },
   "outputs": [
    {
     "data": {
      "text/plain": [
       "[1, 2, 3]"
      ]
     },
     "execution_count": 6,
     "metadata": {},
     "output_type": "execute_result"
    }
   ],
   "source": [
    "abc = [1,2,3,4,5,6]\n",
    "abc[:3]"
   ]
  },
  {
   "cell_type": "code",
   "execution_count": 7,
   "metadata": {
    "collapsed": false
   },
   "outputs": [
    {
     "name": "stdout",
     "output_type": "stream",
     "text": [
      "10\n",
      "17\n"
     ]
    }
   ],
   "source": [
    "print(pred.shape[0])\n",
    "print(pred.shape[1])"
   ]
  },
  {
   "cell_type": "code",
   "execution_count": 8,
   "metadata": {
    "collapsed": false
   },
   "outputs": [
    {
     "name": "stdout",
     "output_type": "stream",
     "text": [
      "[ 0.71584207  0.62680256]\n"
     ]
    }
   ],
   "source": [
    "print(threshold[2:4])"
   ]
  },
  {
   "cell_type": "code",
   "execution_count": 13,
   "metadata": {
    "collapsed": true
   },
   "outputs": [],
   "source": [
    "a = np.array([[1, 2], [3, 4]])"
   ]
  },
  {
   "cell_type": "code",
   "execution_count": 19,
   "metadata": {
    "collapsed": false
   },
   "outputs": [
    {
     "name": "stdout",
     "output_type": "stream",
     "text": [
      "[[1 2]\n",
      " [3 4]]\n"
     ]
    }
   ],
   "source": [
    "b = np.array([])\n",
    "b = np.vstack([a,b]) if b.size else a\n",
    "print(b)"
   ]
  },
  {
   "cell_type": "code",
   "execution_count": 12,
   "metadata": {
    "collapsed": false
   },
   "outputs": [
    {
     "name": "stdout",
     "output_type": "stream",
     "text": [
      "['R' 'G' 'B' 'NDVI']\n"
     ]
    }
   ],
   "source": [
    "data_mask_label = np.array(['R', 'G', 'B', 'NDVI', 'NDWI', 'NIR'])\n",
    "data_mask = np.array([True,True,True,True,False,False]) # RGB+NDVI\n",
    "filtered = data_mask_label[data_mask]\n",
    "print(np.array_str(filtered))"
   ]
  },
  {
   "cell_type": "code",
   "execution_count": 14,
   "metadata": {
    "collapsed": false
   },
   "outputs": [],
   "source": [
    "def duplicate_samples_y(train_X, train_Y, dup_target_y, multiplier=2):\n",
    "    \"\"\"duplicate samples.  train_Y has N 1,0 tuples.  dup_target_y in [0,N). append to end of input arrays\"\"\"\n",
    "    \n",
    "    target_y = train_Y[:,dup_target_y]\n",
    "    print(target_y)\n",
    "    mask = ma.make_mask(target_y)\n",
    "    additional_X = train_X[mask]\n",
    "    print(additional_X)\n",
    "    additional_Y = train_Y[mask]\n",
    "    print(additional_Y)\n",
    "    \n",
    "    for i in range(1, multiplier):\n",
    "        train_X = np.concatenate((train_X, additional_X), axis=0)\n",
    "        train_Y = np.concatenate((train_Y, additional_Y), axis=0)\n",
    "\n",
    "    return train_X, train_Y"
   ]
  },
  {
   "cell_type": "code",
   "execution_count": 15,
   "metadata": {
    "collapsed": false
   },
   "outputs": [
    {
     "name": "stdout",
     "output_type": "stream",
     "text": [
      "[0 1 0 0 0 1]\n",
      "[2 6]\n",
      "[[0 1 1 1]\n",
      " [1 1 1 1]]\n",
      "[  1   2 300   4 500   6   2   6   2   6]\n",
      "[[0 1 1 0]\n",
      " [0 1 1 1]\n",
      " [0 0 0 0]\n",
      " [0 1 1 0]\n",
      " [0 1 0 0]\n",
      " [1 1 1 1]\n",
      " [0 1 1 1]\n",
      " [1 1 1 1]\n",
      " [0 1 1 1]\n",
      " [1 1 1 1]]\n"
     ]
    }
   ],
   "source": [
    "x = np.array([1,2,300,4,500,6])\n",
    "y = np.array([[0,1,1,0], [0,1,1,1], [0,0,0,0], [0,1,1,0], [0,1,0,0], [1,1,1,1]])\n",
    "\n",
    "\n",
    "newx, newy = duplicate_samples_y(x, y, 3, multiplier=3)\n",
    "print(newx)\n",
    "print(newy)"
   ]
  },
  {
   "cell_type": "code",
   "execution_count": 2,
   "metadata": {
    "collapsed": false
   },
   "outputs": [
    {
     "data": {
      "text/plain": [
       "11"
      ]
     },
     "execution_count": 2,
     "metadata": {},
     "output_type": "execute_result"
    }
   ],
   "source": [
    "labels = ['slash_burn', 'clear', 'blooming', 'primary', 'cloudy', 'conventional_mine', 'water', 'haze', 'cultivation', 'partly_cloudy', 'artisinal_mine', 'habitation', 'bare_ground', 'blow_down', 'agriculture', 'road', 'selective_logging']\n",
    "labels.index('habitation')"
   ]
  },
  {
   "cell_type": "code",
   "execution_count": 3,
   "metadata": {
    "collapsed": false
   },
   "outputs": [
    {
     "name": "stdout",
     "output_type": "stream",
     "text": [
      "[ 0.67110686  0.45373571  0.31221583  0.32049423  0.56789333  0.94410113\n",
      "  0.66482473  0.06186901  0.10256963  0.74259393  0.24041905  0.89804437\n",
      "  0.36899212  0.08540033  0.27440888  0.26618049  0.40470576]\n",
      "[ 0.61782945  0.53972064  0.52878542  0.68153201  0.55141485  0.51324694\n",
      "  0.68263416  0.52582906  0.52535608  0.51513038  0.7961157   0.79964867\n",
      "  0.50518597  0.74401729  0.72329192  0.56224621  0.67074485]\n"
     ]
    }
   ],
   "source": [
    "recall_l = np.random.uniform(low=0.0, high=1.0, size=(17))\n",
    "precision_l = np.random.uniform(low=0.5, high=0.8, size=(17))\n",
    "\n",
    "print (recall_l)\n",
    "print (precision_l)\n",
    "\n",
    "count_stats_df = pd.DataFrame({\n",
    "    'label': labels, \n",
    "    'recall': recall_l,\n",
    "    'precision': precision_l\n",
    "})"
   ]
  },
  {
   "cell_type": "code",
   "execution_count": 6,
   "metadata": {
    "collapsed": false
   },
   "outputs": [
    {
     "data": {
      "text/plain": [
       "<matplotlib.text.Text at 0x9948b70>"
      ]
     },
     "execution_count": 6,
     "metadata": {},
     "output_type": "execute_result"
    }
   ],
   "source": [
    "colors = cm.rainbow(np.linspace(0, 1, len(count_stats_df['label'])))\n",
    "\n",
    "fig, ax = plt.subplots()\n",
    "ax.scatter(count_stats_df['precision'], count_stats_df['recall'], c=colors)\n",
    "ax.set_xlabel('precision')\n",
    "ax.set_ylabel('recall')\n"
   ]
  },
  {
   "cell_type": "code",
   "execution_count": 7,
   "metadata": {
    "collapsed": true
   },
   "outputs": [],
   "source": [
    "for i, txt in enumerate(count_stats_df['label']):\n",
    "    ax.annotate(txt, (count_stats_df['precision'][i], count_stats_df['recall'][i]))"
   ]
  },
  {
   "cell_type": "code",
   "execution_count": 8,
   "metadata": {
    "collapsed": false
   },
   "outputs": [
    {
     "data": {
      "image/png": "[encoded data removed]",
      "text/plain": [
       "<matplotlib.figure.Figure at 0x98cdef0>"
      ]
     },
     "metadata": {},
     "output_type": "display_data"
    }
   ],
   "source": [
    "plt.show()"
   ]
  },
  {
   "cell_type": "code",
   "execution_count": 2,
   "metadata": {
    "collapsed": false
   },
   "outputs": [
    {
     "name": "stdout",
     "output_type": "stream",
     "text": [
      "17\n",
      "1\n"
     ]
    }
   ],
   "source": [
    "print(get_model_output_layer_size())\n",
    "set_model_output_layer_size(1)\n",
    "print(get_model_output_layer_size())"
   ]
  },
  {
   "cell_type": "code",
   "execution_count": 9,
   "metadata": {
    "collapsed": false,
    "scrolled": true
   },
   "outputs": [
    {
     "ename": "IndexError",
     "evalue": "list index out of range",
     "output_type": "error",
     "traceback": [
      "\u001b[0;31m---------------------------------------------------------------------------\u001b[0m",
      "\u001b[0;31mIndexError\u001b[0m                                Traceback (most recent call last)",
      "\u001b[0;32m<ipython-input-9-3a450de31278>\u001b[0m in \u001b[0;36m<module>\u001b[0;34m()\u001b[0m\n\u001b[1;32m     22\u001b[0m \u001b[1;33m\u001b[0m\u001b[0m\n\u001b[1;32m     23\u001b[0m \u001b[1;32mtry\u001b[0m\u001b[1;33m:\u001b[0m\u001b[1;33m\u001b[0m\u001b[0m\n\u001b[0;32m---> 24\u001b[0;31m     \u001b[0mresult\u001b[0m \u001b[1;33m=\u001b[0m \u001b[0malign_target_tif_to_jpg\u001b[0m\u001b[1;33m(\u001b[0m\u001b[0mtif_img_raw\u001b[0m\u001b[1;33m,\u001b[0m \u001b[0mjpg_img_raw\u001b[0m\u001b[1;33m,\u001b[0m \u001b[0mtif_img_raw\u001b[0m\u001b[1;33m,\u001b[0m \u001b[0mverbose\u001b[0m\u001b[1;33m=\u001b[0m\u001b[0mTrue\u001b[0m\u001b[1;33m)\u001b[0m\u001b[1;33m\u001b[0m\u001b[0m\n\u001b[0m\u001b[1;32m     25\u001b[0m     \u001b[0mshow_tiff_image_data\u001b[0m\u001b[1;33m(\u001b[0m\u001b[0mtif_img_raw\u001b[0m\u001b[1;33m)\u001b[0m\u001b[1;33m\u001b[0m\u001b[0m\n\u001b[1;32m     26\u001b[0m \u001b[1;32mexcept\u001b[0m \u001b[0mValueError\u001b[0m\u001b[1;33m:\u001b[0m\u001b[1;33m\u001b[0m\u001b[0m\n",
      "\u001b[0;32mC:\\Users\\Me\\kaggle\\amazon\\utils\\align.py\u001b[0m in \u001b[0;36malign_target_tif_to_jpg\u001b[0;34m(image_tif_bgrn, image_jpg_bgr, target, verbose)\u001b[0m\n\u001b[1;32m     94\u001b[0m \u001b[1;32mdef\u001b[0m \u001b[0malign_target_tif_to_jpg\u001b[0m\u001b[1;33m(\u001b[0m\u001b[0mimage_tif_bgrn\u001b[0m\u001b[1;33m,\u001b[0m \u001b[0mimage_jpg_bgr\u001b[0m\u001b[1;33m,\u001b[0m \u001b[0mtarget\u001b[0m\u001b[1;33m,\u001b[0m \u001b[0mverbose\u001b[0m\u001b[1;33m=\u001b[0m\u001b[0mFalse\u001b[0m\u001b[1;33m)\u001b[0m\u001b[1;33m:\u001b[0m\u001b[1;33m\u001b[0m\u001b[0m\n\u001b[1;32m     95\u001b[0m         \u001b[1;34m\"\"\"compute translational tranform matrix mapping image_tif to image_jpg and then apply the same matrix transform to target\"\"\"\u001b[0m\u001b[1;33m\u001b[0m\u001b[0m\n\u001b[0;32m---> 96\u001b[0;31m         \u001b[0mwarp_matrix\u001b[0m \u001b[1;33m=\u001b[0m \u001b[0mget_matrix\u001b[0m\u001b[1;33m(\u001b[0m\u001b[0mimage_tif_bgrn\u001b[0m\u001b[1;33m,\u001b[0m \u001b[0mimage_jpg_bgr\u001b[0m\u001b[1;33m,\u001b[0m \u001b[0mverbose\u001b[0m\u001b[1;33m)\u001b[0m\u001b[1;33m\u001b[0m\u001b[0m\n\u001b[0m\u001b[1;32m     97\u001b[0m         \u001b[0mwarped_target\u001b[0m \u001b[1;33m=\u001b[0m \u001b[0mwarp\u001b[0m\u001b[1;33m(\u001b[0m\u001b[0mtarget\u001b[0m\u001b[1;33m,\u001b[0m \u001b[0mwarp_matrix\u001b[0m\u001b[1;33m)\u001b[0m\u001b[1;33m\u001b[0m\u001b[0m\n\u001b[1;32m     98\u001b[0m         \u001b[1;32mreturn\u001b[0m \u001b[0mwarped_target\u001b[0m\u001b[1;33m\u001b[0m\u001b[0m\n",
      "\u001b[0;32mC:\\Users\\Me\\kaggle\\amazon\\utils\\align.py\u001b[0m in \u001b[0;36mget_matrix\u001b[0;34m(image_tif_bgrn, image_jpg_bgr, verbose)\u001b[0m\n\u001b[1;32m     62\u001b[0m \u001b[1;33m\u001b[0m\u001b[0m\n\u001b[1;32m     63\u001b[0m         \u001b[0morb2\u001b[0m \u001b[1;33m=\u001b[0m \u001b[0mORB\u001b[0m\u001b[1;33m(\u001b[0m\u001b[0mn_keypoints\u001b[0m\u001b[1;33m=\u001b[0m\u001b[0mnumber_of_keypoints\u001b[0m\u001b[1;33m,\u001b[0m \u001b[0mfast_threshold\u001b[0m\u001b[1;33m=\u001b[0m\u001b[1;36m0.05\u001b[0m\u001b[1;33m)\u001b[0m\u001b[1;33m\u001b[0m\u001b[0m\n\u001b[0;32m---> 64\u001b[0;31m         \u001b[0morb2\u001b[0m\u001b[1;33m.\u001b[0m\u001b[0mdetect_and_extract\u001b[0m\u001b[1;33m(\u001b[0m\u001b[0mtif_gray\u001b[0m\u001b[1;33m)\u001b[0m\u001b[1;33m\u001b[0m\u001b[0m\n\u001b[0m\u001b[1;32m     65\u001b[0m         \u001b[0mkeypoints_tif\u001b[0m \u001b[1;33m=\u001b[0m \u001b[0morb2\u001b[0m\u001b[1;33m.\u001b[0m\u001b[0mkeypoints\u001b[0m\u001b[1;33m\u001b[0m\u001b[0m\n\u001b[1;32m     66\u001b[0m         \u001b[0mdescriptors_tif\u001b[0m \u001b[1;33m=\u001b[0m \u001b[0morb2\u001b[0m\u001b[1;33m.\u001b[0m\u001b[0mdescriptors\u001b[0m\u001b[1;33m\u001b[0m\u001b[0m\n",
      "\u001b[0;32mC:\\Users\\Me\\Anaconda2\\lib\\site-packages\\skimage\\feature\\orb.pyc\u001b[0m in \u001b[0;36mdetect_and_extract\u001b[0;34m(self, image)\u001b[0m\n\u001b[1;32m    321\u001b[0m         \u001b[0mkeypoints\u001b[0m \u001b[1;33m=\u001b[0m \u001b[0mnp\u001b[0m\u001b[1;33m.\u001b[0m\u001b[0mvstack\u001b[0m\u001b[1;33m(\u001b[0m\u001b[0mkeypoints_list\u001b[0m\u001b[1;33m)\u001b[0m\u001b[1;33m\u001b[0m\u001b[0m\n\u001b[1;32m    322\u001b[0m         \u001b[0mresponses\u001b[0m \u001b[1;33m=\u001b[0m \u001b[0mnp\u001b[0m\u001b[1;33m.\u001b[0m\u001b[0mhstack\u001b[0m\u001b[1;33m(\u001b[0m\u001b[0mresponses_list\u001b[0m\u001b[1;33m)\u001b[0m\u001b[1;33m\u001b[0m\u001b[0m\n\u001b[0;32m--> 323\u001b[0;31m         \u001b[0mscales\u001b[0m \u001b[1;33m=\u001b[0m \u001b[0mnp\u001b[0m\u001b[1;33m.\u001b[0m\u001b[0mhstack\u001b[0m\u001b[1;33m(\u001b[0m\u001b[0mscales_list\u001b[0m\u001b[1;33m)\u001b[0m\u001b[1;33m\u001b[0m\u001b[0m\n\u001b[0m\u001b[1;32m    324\u001b[0m         \u001b[0morientations\u001b[0m \u001b[1;33m=\u001b[0m \u001b[0mnp\u001b[0m\u001b[1;33m.\u001b[0m\u001b[0mhstack\u001b[0m\u001b[1;33m(\u001b[0m\u001b[0morientations_list\u001b[0m\u001b[1;33m)\u001b[0m\u001b[1;33m\u001b[0m\u001b[0m\n\u001b[1;32m    325\u001b[0m         \u001b[0mdescriptors\u001b[0m \u001b[1;33m=\u001b[0m \u001b[0mnp\u001b[0m\u001b[1;33m.\u001b[0m\u001b[0mvstack\u001b[0m\u001b[1;33m(\u001b[0m\u001b[0mdescriptors_list\u001b[0m\u001b[1;33m)\u001b[0m\u001b[1;33m.\u001b[0m\u001b[0mview\u001b[0m\u001b[1;33m(\u001b[0m\u001b[0mnp\u001b[0m\u001b[1;33m.\u001b[0m\u001b[0mbool\u001b[0m\u001b[1;33m)\u001b[0m\u001b[1;33m\u001b[0m\u001b[0m\n",
      "\u001b[0;32mC:\\Users\\Me\\Anaconda2\\lib\\site-packages\\numpy\\core\\shape_base.pyc\u001b[0m in \u001b[0;36mhstack\u001b[0;34m(tup)\u001b[0m\n\u001b[1;32m    275\u001b[0m     \u001b[0marrs\u001b[0m \u001b[1;33m=\u001b[0m \u001b[1;33m[\u001b[0m\u001b[0matleast_1d\u001b[0m\u001b[1;33m(\u001b[0m\u001b[0m_m\u001b[0m\u001b[1;33m)\u001b[0m \u001b[1;32mfor\u001b[0m \u001b[0m_m\u001b[0m \u001b[1;32min\u001b[0m \u001b[0mtup\u001b[0m\u001b[1;33m]\u001b[0m\u001b[1;33m\u001b[0m\u001b[0m\n\u001b[1;32m    276\u001b[0m     \u001b[1;31m# As a special case, dimension 0 of 1-dimensional arrays is \"horizontal\"\u001b[0m\u001b[1;33m\u001b[0m\u001b[1;33m\u001b[0m\u001b[0m\n\u001b[0;32m--> 277\u001b[0;31m     \u001b[1;32mif\u001b[0m \u001b[0marrs\u001b[0m\u001b[1;33m[\u001b[0m\u001b[1;36m0\u001b[0m\u001b[1;33m]\u001b[0m\u001b[1;33m.\u001b[0m\u001b[0mndim\u001b[0m \u001b[1;33m==\u001b[0m \u001b[1;36m1\u001b[0m\u001b[1;33m:\u001b[0m\u001b[1;33m\u001b[0m\u001b[0m\n\u001b[0m\u001b[1;32m    278\u001b[0m         \u001b[1;32mreturn\u001b[0m \u001b[0m_nx\u001b[0m\u001b[1;33m.\u001b[0m\u001b[0mconcatenate\u001b[0m\u001b[1;33m(\u001b[0m\u001b[0marrs\u001b[0m\u001b[1;33m,\u001b[0m \u001b[1;36m0\u001b[0m\u001b[1;33m)\u001b[0m\u001b[1;33m\u001b[0m\u001b[0m\n\u001b[1;32m    279\u001b[0m     \u001b[1;32melse\u001b[0m\u001b[1;33m:\u001b[0m\u001b[1;33m\u001b[0m\u001b[0m\n",
      "\u001b[0;31mIndexError\u001b[0m: list index out of range"
     ]
    }
   ],
   "source": [
    "from utils.renderer import *\n",
    "\n",
    "%matplotlib inline\n",
    "\n",
    "# debug\n",
    "#target_filename = 'train_2080'\n",
    "#target_filename = 'train_2078' # primary fuzzy failed\n",
    "#target_filename = 'train_10483'\n",
    "\n",
    "#target_filename = 'train_17173' #cloud\n",
    "#target_filename = 'train_18173'\n",
    "#jpg_filename = train_jpg(target_filename)\n",
    "#tiff_filename = train_tif(target_filename)\n",
    "\n",
    "target_filename = 'file_12756'\n",
    "#target_filename = 'file_12754' #IndexError\n",
    "jpg_filename = test_jpg(target_filename)\n",
    "tiff_filename = test_tif(target_filename)\n",
    "\n",
    "jpg_img_raw = cv2.imread(jpg_filename)\n",
    "tif_img_raw = cv2.imread(tiff_filename, cv2.IMREAD_UNCHANGED)\n",
    "\n",
    "try:\n",
    "    result = align_target_tif_to_jpg(tif_img_raw, jpg_img_raw, tif_img_raw, verbose=True)\n",
    "    show_tiff_image_data(tif_img_raw)\n",
    "except ValueError:\n",
    "    print('Error: TIF and JPG are mismatched: {}'.format(target_filename))"
   ]
  },
  {
   "cell_type": "code",
   "execution_count": 3,
   "metadata": {
    "collapsed": false
   },
   "outputs": [
    {
     "data": {
      "image/png": "[encoded data removed]",
      "text/plain": [
       "<matplotlib.figure.Figure at 0x247d7550>"
      ]
     },
     "metadata": {},
     "output_type": "display_data"
    }
   ],
   "source": [
    "show_tiff_image_data(result)"
   ]
  },
  {
   "cell_type": "code",
   "execution_count": 2,
   "metadata": {
    "collapsed": false
   },
   "outputs": [
    {
     "data": {
      "text/html": [
       "<div>\n",
       "<table border=\"1\" class=\"dataframe\">\n",
       "  <thead>\n",
       "    <tr style=\"text-align: right;\">\n",
       "      <th></th>\n",
       "      <th>model_file</th>\n",
       "      <th>model_id</th>\n",
       "      <th>f2_score</th>\n",
       "      <th>val_accuracy</th>\n",
       "      <th>val_precision</th>\n",
       "      <th>val_recall</th>\n",
       "      <th>train_accuracy</th>\n",
       "      <th>train_precision</th>\n",
       "      <th>train_recall</th>\n",
       "      <th>training_time</th>\n",
       "      <th>num_channels</th>\n",
       "      <th>config</th>\n",
       "      <th>data_mask</th>\n",
       "    </tr>\n",
       "  </thead>\n",
       "  <tbody>\n",
       "    <tr>\n",
       "      <th>0</th>\n",
       "      <td>aggregate_model_20170511-150149.h5</td>\n",
       "      <td>JAGG_1</td>\n",
       "      <td>0.889447</td>\n",
       "      <td>NaN</td>\n",
       "      <td>NaN</td>\n",
       "      <td>NaN</td>\n",
       "      <td>0.950815</td>\n",
       "      <td>0.902571</td>\n",
       "      <td>0.795162</td>\n",
       "      <td>0 days 00:07:02.069000000</td>\n",
       "      <td>4</td>\n",
       "      <td>NaN</td>\n",
       "      <td>RGBN</td>\n",
       "    </tr>\n",
       "    <tr>\n",
       "      <th>1</th>\n",
       "      <td>aggregate_model_20170511-180931.h5</td>\n",
       "      <td>JAGG_1</td>\n",
       "      <td>0.896287</td>\n",
       "      <td>NaN</td>\n",
       "      <td>NaN</td>\n",
       "      <td>NaN</td>\n",
       "      <td>0.953407</td>\n",
       "      <td>0.905887</td>\n",
       "      <td>0.808538</td>\n",
       "      <td>0 days 01:20:40.819000</td>\n",
       "      <td>3</td>\n",
       "      <td>NaN</td>\n",
       "      <td>NaN</td>\n",
       "    </tr>\n",
       "    <tr>\n",
       "      <th>2</th>\n",
       "      <td>aggregate_model_20170511-220711.h5</td>\n",
       "      <td>JAGG_1</td>\n",
       "      <td>0.893897</td>\n",
       "      <td>NaN</td>\n",
       "      <td>NaN</td>\n",
       "      <td>NaN</td>\n",
       "      <td>0.952527</td>\n",
       "      <td>0.905944</td>\n",
       "      <td>0.802767</td>\n",
       "      <td>0 days 01:40:52.325000</td>\n",
       "      <td>4</td>\n",
       "      <td>NaN</td>\n",
       "      <td>RGBN</td>\n",
       "    </tr>\n",
       "    <tr>\n",
       "      <th>3</th>\n",
       "      <td>aggregate_model_20170512-092940.h5</td>\n",
       "      <td>JAGG_1</td>\n",
       "      <td>0.884609</td>\n",
       "      <td>NaN</td>\n",
       "      <td>NaN</td>\n",
       "      <td>NaN</td>\n",
       "      <td>0.950599</td>\n",
       "      <td>0.901833</td>\n",
       "      <td>0.794459</td>\n",
       "      <td>0 days 01:40:18.884000</td>\n",
       "      <td>4</td>\n",
       "      <td>NaN</td>\n",
       "      <td>RGBN</td>\n",
       "    </tr>\n",
       "    <tr>\n",
       "      <th>4</th>\n",
       "      <td>aggregate_model_20170512-115655.h5</td>\n",
       "      <td>JAGG_1</td>\n",
       "      <td>0.888758</td>\n",
       "      <td>NaN</td>\n",
       "      <td>NaN</td>\n",
       "      <td>NaN</td>\n",
       "      <td>0.949077</td>\n",
       "      <td>0.903689</td>\n",
       "      <td>0.782218</td>\n",
       "      <td>0 days 02:06:06.810000</td>\n",
       "      <td>4</td>\n",
       "      <td>NaN</td>\n",
       "      <td>RGBN</td>\n",
       "    </tr>\n",
       "  </tbody>\n",
       "</table>\n",
       "</div>"
      ],
      "text/plain": [
       "                           model_file model_id  f2_score  val_accuracy  \\\n",
       "0  aggregate_model_20170511-150149.h5   JAGG_1  0.889447           NaN   \n",
       "1  aggregate_model_20170511-180931.h5   JAGG_1  0.896287           NaN   \n",
       "2  aggregate_model_20170511-220711.h5   JAGG_1  0.893897           NaN   \n",
       "3  aggregate_model_20170512-092940.h5   JAGG_1  0.884609           NaN   \n",
       "4  aggregate_model_20170512-115655.h5   JAGG_1  0.888758           NaN   \n",
       "\n",
       "   val_precision  val_recall  train_accuracy  train_precision  train_recall  \\\n",
       "0            NaN         NaN        0.950815         0.902571      0.795162   \n",
       "1            NaN         NaN        0.953407         0.905887      0.808538   \n",
       "2            NaN         NaN        0.952527         0.905944      0.802767   \n",
       "3            NaN         NaN        0.950599         0.901833      0.794459   \n",
       "4            NaN         NaN        0.949077         0.903689      0.782218   \n",
       "\n",
       "               training_time  num_channels config data_mask  \n",
       "0  0 days 00:07:02.069000000             4    NaN      RGBN  \n",
       "1     0 days 01:20:40.819000             3    NaN       NaN  \n",
       "2     0 days 01:40:52.325000             4    NaN      RGBN  \n",
       "3     0 days 01:40:18.884000             4    NaN      RGBN  \n",
       "4     0 days 02:06:06.810000             4    NaN      RGBN  "
      ]
     },
     "execution_count": 2,
     "metadata": {},
     "output_type": "execute_result"
    }
   ],
   "source": [
    "score_file = 'master_scoreboard.csv'\n",
    "df = pd.read_csv(score_file)\n",
    "df.head()"
   ]
  },
  {
   "cell_type": "code",
   "execution_count": 6,
   "metadata": {
    "collapsed": false
   },
   "outputs": [],
   "source": [
    "df = df.round({'f2_score': 3, 'val_accuracy' : 3, 'val_precision': 3, 'val_recall' : 3, \n",
    "         'train_accuracy' : 3, 'train_precision': 3, 'train_recall' : 3})"
   ]
  },
  {
   "cell_type": "code",
   "execution_count": 7,
   "metadata": {
    "collapsed": true
   },
   "outputs": [],
   "source": []
  },
  {
   "cell_type": "code",
   "execution_count": 8,
   "metadata": {
    "collapsed": false
   },
   "outputs": [
    {
     "data": {
      "text/html": [
       "<div>\n",
       "<table border=\"1\" class=\"dataframe\">\n",
       "  <thead>\n",
       "    <tr style=\"text-align: right;\">\n",
       "      <th></th>\n",
       "      <th>model_file</th>\n",
       "      <th>model_id</th>\n",
       "      <th>f2_score</th>\n",
       "      <th>val_accuracy</th>\n",
       "      <th>val_precision</th>\n",
       "      <th>val_recall</th>\n",
       "      <th>train_accuracy</th>\n",
       "      <th>train_precision</th>\n",
       "      <th>train_recall</th>\n",
       "      <th>training_time</th>\n",
       "      <th>num_channels</th>\n",
       "      <th>config</th>\n",
       "      <th>data_mask</th>\n",
       "    </tr>\n",
       "  </thead>\n",
       "  <tbody>\n",
       "    <tr>\n",
       "      <th>0</th>\n",
       "      <td>aggregate_model_20170511-150149.h5</td>\n",
       "      <td>JAGG_1</td>\n",
       "      <td>0.889</td>\n",
       "      <td>NaN</td>\n",
       "      <td>NaN</td>\n",
       "      <td>NaN</td>\n",
       "      <td>0.951</td>\n",
       "      <td>0.903</td>\n",
       "      <td>0.795</td>\n",
       "      <td>0 days 00:07:02.069000000</td>\n",
       "      <td>4</td>\n",
       "      <td>NaN</td>\n",
       "      <td>RGBN</td>\n",
       "    </tr>\n",
       "    <tr>\n",
       "      <th>1</th>\n",
       "      <td>aggregate_model_20170511-180931.h5</td>\n",
       "      <td>JAGG_1</td>\n",
       "      <td>0.896</td>\n",
       "      <td>NaN</td>\n",
       "      <td>NaN</td>\n",
       "      <td>NaN</td>\n",
       "      <td>0.953</td>\n",
       "      <td>0.906</td>\n",
       "      <td>0.809</td>\n",
       "      <td>0 days 01:20:40.819000</td>\n",
       "      <td>3</td>\n",
       "      <td>NaN</td>\n",
       "      <td>NaN</td>\n",
       "    </tr>\n",
       "    <tr>\n",
       "      <th>2</th>\n",
       "      <td>aggregate_model_20170511-220711.h5</td>\n",
       "      <td>JAGG_1</td>\n",
       "      <td>0.894</td>\n",
       "      <td>NaN</td>\n",
       "      <td>NaN</td>\n",
       "      <td>NaN</td>\n",
       "      <td>0.953</td>\n",
       "      <td>0.906</td>\n",
       "      <td>0.803</td>\n",
       "      <td>0 days 01:40:52.325000</td>\n",
       "      <td>4</td>\n",
       "      <td>NaN</td>\n",
       "      <td>RGBN</td>\n",
       "    </tr>\n",
       "    <tr>\n",
       "      <th>3</th>\n",
       "      <td>aggregate_model_20170512-092940.h5</td>\n",
       "      <td>JAGG_1</td>\n",
       "      <td>0.885</td>\n",
       "      <td>NaN</td>\n",
       "      <td>NaN</td>\n",
       "      <td>NaN</td>\n",
       "      <td>0.951</td>\n",
       "      <td>0.902</td>\n",
       "      <td>0.794</td>\n",
       "      <td>0 days 01:40:18.884000</td>\n",
       "      <td>4</td>\n",
       "      <td>NaN</td>\n",
       "      <td>RGBN</td>\n",
       "    </tr>\n",
       "    <tr>\n",
       "      <th>4</th>\n",
       "      <td>aggregate_model_20170512-115655.h5</td>\n",
       "      <td>JAGG_1</td>\n",
       "      <td>0.889</td>\n",
       "      <td>NaN</td>\n",
       "      <td>NaN</td>\n",
       "      <td>NaN</td>\n",
       "      <td>0.949</td>\n",
       "      <td>0.904</td>\n",
       "      <td>0.782</td>\n",
       "      <td>0 days 02:06:06.810000</td>\n",
       "      <td>4</td>\n",
       "      <td>NaN</td>\n",
       "      <td>RGBN</td>\n",
       "    </tr>\n",
       "  </tbody>\n",
       "</table>\n",
       "</div>"
      ],
      "text/plain": [
       "                           model_file model_id  f2_score  val_accuracy  \\\n",
       "0  aggregate_model_20170511-150149.h5   JAGG_1     0.889           NaN   \n",
       "1  aggregate_model_20170511-180931.h5   JAGG_1     0.896           NaN   \n",
       "2  aggregate_model_20170511-220711.h5   JAGG_1     0.894           NaN   \n",
       "3  aggregate_model_20170512-092940.h5   JAGG_1     0.885           NaN   \n",
       "4  aggregate_model_20170512-115655.h5   JAGG_1     0.889           NaN   \n",
       "\n",
       "   val_precision  val_recall  train_accuracy  train_precision  train_recall  \\\n",
       "0            NaN         NaN           0.951            0.903         0.795   \n",
       "1            NaN         NaN           0.953            0.906         0.809   \n",
       "2            NaN         NaN           0.953            0.906         0.803   \n",
       "3            NaN         NaN           0.951            0.902         0.794   \n",
       "4            NaN         NaN           0.949            0.904         0.782   \n",
       "\n",
       "               training_time  num_channels config data_mask  \n",
       "0  0 days 00:07:02.069000000             4    NaN      RGBN  \n",
       "1     0 days 01:20:40.819000             3    NaN       NaN  \n",
       "2     0 days 01:40:52.325000             4    NaN      RGBN  \n",
       "3     0 days 01:40:18.884000             4    NaN      RGBN  \n",
       "4     0 days 02:06:06.810000             4    NaN      RGBN  "
      ]
     },
     "execution_count": 8,
     "metadata": {},
     "output_type": "execute_result"
    }
   ],
   "source": [
    "df.head()"
   ]
  },
  {
   "cell_type": "code",
   "execution_count": 9,
   "metadata": {
    "collapsed": false
   },
   "outputs": [
    {
     "data": {
      "text/html": [
       "<div>\n",
       "<table border=\"1\" class=\"dataframe\">\n",
       "  <thead>\n",
       "    <tr style=\"text-align: right;\">\n",
       "      <th></th>\n",
       "      <th>model_file</th>\n",
       "      <th>model_id</th>\n",
       "      <th>f2_score</th>\n",
       "      <th>val_accuracy</th>\n",
       "      <th>val_precision</th>\n",
       "      <th>val_recall</th>\n",
       "      <th>train_accuracy</th>\n",
       "      <th>train_precision</th>\n",
       "      <th>train_recall</th>\n",
       "      <th>training_time</th>\n",
       "      <th>num_channels</th>\n",
       "      <th>config</th>\n",
       "      <th>data_mask</th>\n",
       "      <th>data_set</th>\n",
       "    </tr>\n",
       "  </thead>\n",
       "  <tbody>\n",
       "    <tr>\n",
       "      <th>0</th>\n",
       "      <td>aggregate_model_20170511-150149.h5</td>\n",
       "      <td>JAGG_1</td>\n",
       "      <td>0.889</td>\n",
       "      <td>NaN</td>\n",
       "      <td>NaN</td>\n",
       "      <td>NaN</td>\n",
       "      <td>0.951</td>\n",
       "      <td>0.903</td>\n",
       "      <td>0.795</td>\n",
       "      <td>0 days 00:07:02.069000000</td>\n",
       "      <td>4</td>\n",
       "      <td>NaN</td>\n",
       "      <td>RGBN</td>\n",
       "      <td>data_set</td>\n",
       "    </tr>\n",
       "    <tr>\n",
       "      <th>1</th>\n",
       "      <td>aggregate_model_20170511-180931.h5</td>\n",
       "      <td>JAGG_1</td>\n",
       "      <td>0.896</td>\n",
       "      <td>NaN</td>\n",
       "      <td>NaN</td>\n",
       "      <td>NaN</td>\n",
       "      <td>0.953</td>\n",
       "      <td>0.906</td>\n",
       "      <td>0.809</td>\n",
       "      <td>0 days 01:20:40.819000</td>\n",
       "      <td>3</td>\n",
       "      <td>NaN</td>\n",
       "      <td>NaN</td>\n",
       "      <td>data_set</td>\n",
       "    </tr>\n",
       "    <tr>\n",
       "      <th>2</th>\n",
       "      <td>aggregate_model_20170511-220711.h5</td>\n",
       "      <td>JAGG_1</td>\n",
       "      <td>0.894</td>\n",
       "      <td>NaN</td>\n",
       "      <td>NaN</td>\n",
       "      <td>NaN</td>\n",
       "      <td>0.953</td>\n",
       "      <td>0.906</td>\n",
       "      <td>0.803</td>\n",
       "      <td>0 days 01:40:52.325000</td>\n",
       "      <td>4</td>\n",
       "      <td>NaN</td>\n",
       "      <td>RGBN</td>\n",
       "      <td>data_set</td>\n",
       "    </tr>\n",
       "    <tr>\n",
       "      <th>3</th>\n",
       "      <td>aggregate_model_20170512-092940.h5</td>\n",
       "      <td>JAGG_1</td>\n",
       "      <td>0.885</td>\n",
       "      <td>NaN</td>\n",
       "      <td>NaN</td>\n",
       "      <td>NaN</td>\n",
       "      <td>0.951</td>\n",
       "      <td>0.902</td>\n",
       "      <td>0.794</td>\n",
       "      <td>0 days 01:40:18.884000</td>\n",
       "      <td>4</td>\n",
       "      <td>NaN</td>\n",
       "      <td>RGBN</td>\n",
       "      <td>data_set</td>\n",
       "    </tr>\n",
       "    <tr>\n",
       "      <th>4</th>\n",
       "      <td>aggregate_model_20170512-115655.h5</td>\n",
       "      <td>JAGG_1</td>\n",
       "      <td>0.889</td>\n",
       "      <td>NaN</td>\n",
       "      <td>NaN</td>\n",
       "      <td>NaN</td>\n",
       "      <td>0.949</td>\n",
       "      <td>0.904</td>\n",
       "      <td>0.782</td>\n",
       "      <td>0 days 02:06:06.810000</td>\n",
       "      <td>4</td>\n",
       "      <td>NaN</td>\n",
       "      <td>RGBN</td>\n",
       "      <td>data_set</td>\n",
       "    </tr>\n",
       "  </tbody>\n",
       "</table>\n",
       "</div>"
      ],
      "text/plain": [
       "                           model_file model_id  f2_score  val_accuracy  \\\n",
       "0  aggregate_model_20170511-150149.h5   JAGG_1     0.889           NaN   \n",
       "1  aggregate_model_20170511-180931.h5   JAGG_1     0.896           NaN   \n",
       "2  aggregate_model_20170511-220711.h5   JAGG_1     0.894           NaN   \n",
       "3  aggregate_model_20170512-092940.h5   JAGG_1     0.885           NaN   \n",
       "4  aggregate_model_20170512-115655.h5   JAGG_1     0.889           NaN   \n",
       "\n",
       "   val_precision  val_recall  train_accuracy  train_precision  train_recall  \\\n",
       "0            NaN         NaN           0.951            0.903         0.795   \n",
       "1            NaN         NaN           0.953            0.906         0.809   \n",
       "2            NaN         NaN           0.953            0.906         0.803   \n",
       "3            NaN         NaN           0.951            0.902         0.794   \n",
       "4            NaN         NaN           0.949            0.904         0.782   \n",
       "\n",
       "               training_time  num_channels config data_mask  data_set  \n",
       "0  0 days 00:07:02.069000000             4    NaN      RGBN  data_set  \n",
       "1     0 days 01:20:40.819000             3    NaN       NaN  data_set  \n",
       "2     0 days 01:40:52.325000             4    NaN      RGBN  data_set  \n",
       "3     0 days 01:40:18.884000             4    NaN      RGBN  data_set  \n",
       "4     0 days 02:06:06.810000             4    NaN      RGBN  data_set  "
      ]
     },
     "execution_count": 9,
     "metadata": {},
     "output_type": "execute_result"
    }
   ],
   "source": [
    "df['data_set'] = 'data_set'\n",
    "df.head()"
   ]
  },
  {
   "cell_type": "code",
   "execution_count": 10,
   "metadata": {
    "collapsed": true
   },
   "outputs": [],
   "source": []
  },
  {
   "cell_type": "code",
   "execution_count": 12,
   "metadata": {
    "collapsed": false
   },
   "outputs": [
    {
     "name": "stdout",
     "output_type": "stream",
     "text": [
      "haha.jpg\n"
     ]
    }
   ],
   "source": [
    "import os\n",
    "print os.path.basename('D:/Downloads/amazon/haha.jpg')"
   ]
  },
  {
   "cell_type": "code",
   "execution_count": 13,
   "metadata": {
    "collapsed": false
   },
   "outputs": [
    {
     "name": "stdout",
     "output_type": "stream",
     "text": [
      "D:/Downloads/amazon/cache/train_set_dim64_rgb_ndvi_ndwi_nir_align_v3.h5\n"
     ]
    }
   ],
   "source": [
    "from utils.loader import *\n",
    "print(get_training_set_file_path(64))"
   ]
  },
  {
   "cell_type": "code",
   "execution_count": 15,
   "metadata": {
    "collapsed": false
   },
   "outputs": [
    {
     "name": "stdout",
     "output_type": "stream",
     "text": [
      "train_set_dim64_rgb_ndvi_ndwi_nir_align_v3.h5\n"
     ]
    }
   ],
   "source": [
    "data_set_name = os.path.basename(get_training_set_file_path(64))\n",
    "print(data_set_name)"
   ]
  },
  {
   "cell_type": "code",
   "execution_count": 3,
   "metadata": {
    "collapsed": false
   },
   "outputs": [
    {
     "name": "stdout",
     "output_type": "stream",
     "text": [
      "[[ 1.01265126  2.30859113  1.62718998  8.75343163]\n",
      " [ 4.91135743  3.64799078  9.73345285  2.74216278]\n",
      " [ 2.56659098  2.52703456  2.54330914  6.87983521]\n",
      " [ 7.22397532  7.18764802  1.47734563  6.01468259]\n",
      " [ 9.12609271  7.72148426  6.22318054  3.60336409]]\n",
      "[[ 9.83497499  4.96377322  9.90794393  3.22561931]\n",
      " [ 8.78787616  9.05588601  1.83139654  1.17469948]\n",
      " [ 8.06097879  9.28453601  6.80604516  1.60045177]\n",
      " [ 5.31054987  1.17097465  3.61721292  3.32951038]\n",
      " [ 6.6402357   6.98896245  3.147175    9.20551936]]\n",
      "[[ 9.83497499  4.96377322  9.90794393  8.75343163]\n",
      " [ 8.78787616  9.05588601  9.73345285  2.74216278]\n",
      " [ 8.06097879  9.28453601  6.80604516  6.87983521]\n",
      " [ 7.22397532  7.18764802  3.61721292  6.01468259]\n",
      " [ 9.12609271  7.72148426  6.22318054  9.20551936]]\n"
     ]
    }
   ],
   "source": [
    "# demonstrate how we can combine 2 separate predictions into 1 by \"max pooling\"\n",
    "a1 = np.random.uniform(low=1, high=10, size=(20))\n",
    "a1 = a1.reshape(5,4)\n",
    "print(a1)\n",
    "a2 = np.random.uniform(low=1, high=10, size=(20))\n",
    "a2 = a2.reshape(5,4)\n",
    "print(a2)\n",
    "a3 = np.maximum(a1, a2)\n",
    "print(a3)"
   ]
  },
  {
   "cell_type": "code",
   "execution_count": null,
   "metadata": {
    "collapsed": true
   },
   "outputs": [],
   "source": []
  }
 ],
 "metadata": {
  "kernelspec": {
   "display_name": "Python 2",
   "language": "python",
   "name": "python2"
  },
  "language_info": {
   "codemirror_mode": {
    "name": "ipython",
    "version": 2
   },
   "file_extension": ".py",
   "mimetype": "text/x-python",
   "name": "python",
   "nbconvert_exporter": "python",
   "pygments_lexer": "ipython2",
   "version": "2.7.13"
  }
 },
 "nbformat": 4,
 "nbformat_minor": 2
}
