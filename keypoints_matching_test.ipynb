{
 "cells": [
  {
   "cell_type": "code",
   "execution_count": 1,
   "metadata": {
    "collapsed": true
   },
   "outputs": [],
   "source": [
    "import numpy as np\n",
    "import pandas as pd\n",
    "import os\n",
    "import matplotlib.pyplot as plt\n",
    "import cv2\n",
    "\n",
    "from skimage import io\n",
    "from skimage.transform import warp\n",
    "\n",
    "from utils.training import *\n",
    "from utils.align import *\n",
    "from utils.renderer import *\n",
    "from utils.training import *\n",
    "\n",
    "%matplotlib inline"
   ]
  },
  {
   "cell_type": "markdown",
   "metadata": {},
   "source": [
    "This notebook serves these purposes:\n",
    "\n",
    "  * [DONE] Estimate the percentage of images that our algo can successfully align.\n",
    "  * [DONE] Verifying that all mismatched JPG and TIF are NOT aligned by our algo (KeypointDetectionException or ValueError thrown)."
   ]
  },
  {
   "cell_type": "code",
   "execution_count": 2,
   "metadata": {
    "collapsed": false
   },
   "outputs": [],
   "source": [
    "use_train = False; # Training Set or Test Set\n",
    "if use_train:\n",
    "    training_util = TrainingSet(data_dir + 'train_v2.csv')\n",
    "    target_df =  training_util.samples_with_tags(['water'] , n=100)\n",
    "else:\n",
    "    target_df = pd.read_csv(data_dir + 'sample_submission_v2.csv')\n",
    "    target_df = target_df[42383:]"
   ]
  },
  {
   "cell_type": "code",
   "execution_count": 3,
   "metadata": {
    "collapsed": false
   },
   "outputs": [
    {
     "name": "stdout",
     "output_type": "stream",
     "text": [
      "('ORB Keypoint detection failed', 'file_1154')\n"
     ]
    },
    {
     "name": "stderr",
     "output_type": "stream",
     "text": [
      "utils\\transform.py:201: RuntimeWarning: divide by zero encountered in divide\n",
      "  a1, b1 = - V[-1, :-1] / V[-1, -1]\n",
      "utils\\transform.py:201: RuntimeWarning: invalid value encountered in divide\n",
      "  a1, b1 = - V[-1, :-1] / V[-1, -1]\n",
      "C:\\Users\\Me\\Anaconda2\\lib\\site-packages\\skimage\\measure\\fit.py:896: RuntimeWarning: invalid value encountered in absolute\n",
      "  sample_model_residuals = np.abs(sample_model.residuals(*data))\n",
      "C:\\Users\\Me\\Anaconda2\\lib\\site-packages\\skimage\\measure\\fit.py:898: RuntimeWarning: invalid value encountered in less\n",
      "  sample_model_inliers = sample_model_residuals < residual_threshold\n"
     ]
    },
    {
     "name": "stdout",
     "output_type": "stream",
     "text": [
      "('aligned', 'file_11540')\n",
      "('aligned', 'file_11541')\n",
      "('aligned', 'file_11542')\n",
      "('ORB Keypoint detection failed', 'file_11543')\n",
      "('ORB Keypoint detection failed', 'file_11544')\n",
      "('aligned', 'file_11545')\n",
      "('aligned', 'file_11546')\n",
      "('aligned', 'file_11547')\n",
      "('aligned', 'file_11548')\n",
      "('aligned', 'file_11549')\n",
      "('ORB Keypoint detection failed', 'file_1155')\n",
      "('ORB Keypoint detection failed', 'file_11550')\n",
      "('aligned', 'file_11551')\n",
      "('aligned', 'file_11552')\n",
      "('aligned', 'file_11553')\n",
      "('Possible mismatched JPG and TIF', 'file_11554')\n",
      "('aligned', 'file_11555')\n",
      "('aligned', 'file_11556')\n",
      "('aligned', 'file_11557')\n",
      "('aligned', 'file_11558')\n",
      "('aligned', 'file_11559')\n",
      "('Possible mismatched JPG and TIF', 'file_1156')\n",
      "('aligned', 'file_11560')\n",
      "('aligned', 'file_11561')\n",
      "('aligned', 'file_11562')\n",
      "('aligned', 'file_11563')\n",
      "('Possible mismatched JPG and TIF', 'file_11564')\n",
      "('aligned', 'file_11565')\n",
      "('aligned', 'file_11566')\n",
      "('aligned', 'file_11567')\n",
      "('aligned', 'file_11568')\n",
      "('aligned', 'file_11569')\n",
      "('ORB Keypoint detection failed', 'file_1157')\n",
      "('aligned', 'file_11570')\n",
      "('aligned', 'file_11571')\n",
      "('aligned', 'file_11572')\n",
      "('aligned', 'file_11573')\n",
      "('ORB Keypoint detection failed', 'file_11574')\n",
      "('aligned', 'file_11575')\n",
      "('aligned', 'file_11576')\n",
      "('ORB Keypoint detection failed', 'file_11577')\n",
      "('aligned', 'file_11578')\n",
      "('aligned', 'file_11579')\n",
      "('aligned', 'file_1158')\n",
      "('ORB Keypoint detection failed', 'file_11580')\n",
      "('aligned', 'file_11581')\n",
      "('aligned', 'file_11582')\n",
      "('aligned', 'file_11583')\n",
      "('aligned', 'file_11584')\n",
      "('aligned', 'file_11585')\n",
      "('aligned', 'file_11586')\n",
      "('ORB Keypoint detection failed', 'file_11587')\n",
      "('ORB Keypoint detection failed', 'file_11588')\n",
      "('aligned', 'file_11589')\n",
      "('aligned', 'file_1159')\n",
      "('aligned', 'file_11590')\n",
      "('aligned', 'file_11591')\n",
      "('aligned', 'file_11592')\n",
      "('aligned', 'file_11593')\n",
      "('aligned', 'file_11594')\n",
      "('ORB Keypoint detection failed', 'file_11595')\n",
      "('aligned', 'file_11596')\n",
      "('aligned', 'file_11597')\n",
      "('aligned', 'file_11598')\n",
      "('aligned', 'file_11599')\n",
      "('aligned', 'file_116')\n",
      "('aligned', 'file_1160')\n",
      "('aligned', 'file_11600')\n",
      "('aligned', 'file_11601')\n",
      "('aligned', 'file_11602')\n",
      "('aligned', 'file_11603')\n",
      "('aligned', 'file_11604')\n",
      "('aligned', 'file_11605')\n",
      "('aligned', 'file_11606')\n",
      "('aligned', 'file_11607')\n",
      "('aligned', 'file_11608')\n",
      "('aligned', 'file_11609')\n",
      "('aligned', 'file_1161')\n",
      "('ORB Keypoint detection failed', 'file_11610')\n",
      "('aligned', 'file_11611')\n",
      "('aligned', 'file_11612')\n",
      "('aligned', 'file_11613')\n",
      "('ORB Keypoint detection failed', 'file_11614')\n",
      "('aligned', 'file_11615')\n",
      "('Possible mismatched JPG and TIF', 'file_11616')\n",
      "('aligned', 'file_11617')\n",
      "('aligned', 'file_11618')\n",
      "('Possible mismatched JPG and TIF', 'file_11619')\n",
      "('aligned', 'file_1162')\n",
      "('aligned', 'file_11620')\n",
      "('ORB Keypoint detection failed', 'file_11621')\n",
      "('aligned', 'file_11622')\n",
      "('aligned', 'file_11623')\n",
      "('aligned', 'file_11624')\n",
      "('ORB Keypoint detection failed', 'file_11625')\n",
      "('aligned', 'file_11626')\n",
      "('aligned', 'file_11627')\n",
      "('aligned', 'file_11628')\n",
      "('Possible mismatched JPG and TIF', 'file_11629')\n"
     ]
    }
   ],
   "source": [
    "for f in target_df['image_name'][:100].values:\n",
    "    jpg_filename = train_jpg(f) if use_train else test_jpg(f)\n",
    "    tiff_filename = train_tif(f) if use_train else test_tif(f)\n",
    "    jpg_img_raw = cv2.imread(jpg_filename)\n",
    "    tif_img_raw = cv2.imread(tiff_filename, cv2.IMREAD_UNCHANGED)\n",
    "    try:\n",
    "        result_tiff = align_target_tif_to_jpg(tif_img_raw, jpg_img_raw, tif_img_raw, verbose=False)\n",
    "        print('aligned', f)\n",
    "    except ValueError, e:\n",
    "        print(str(e), f)\n",
    "    except KeypointDetectionException, e:\n",
    "        print(str(e), f)\n",
    "    "
   ]
  },
  {
   "cell_type": "code",
   "execution_count": null,
   "metadata": {
    "collapsed": true
   },
   "outputs": [],
   "source": []
  },
  {
   "cell_type": "code",
   "execution_count": null,
   "metadata": {
    "collapsed": true
   },
   "outputs": [],
   "source": []
  }
 ],
 "metadata": {
  "kernelspec": {
   "display_name": "Python 2",
   "language": "python",
   "name": "python2"
  },
  "language_info": {
   "codemirror_mode": {
    "name": "ipython",
    "version": 2
   },
   "file_extension": ".py",
   "mimetype": "text/x-python",
   "name": "python",
   "nbconvert_exporter": "python",
   "pygments_lexer": "ipython2",
   "version": "2.7.13"
  }
 },
 "nbformat": 4,
 "nbformat_minor": 2
}
