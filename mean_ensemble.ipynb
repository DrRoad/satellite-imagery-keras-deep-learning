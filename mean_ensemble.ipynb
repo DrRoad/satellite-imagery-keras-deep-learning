{
 "cells": [
  {
   "cell_type": "code",
   "execution_count": 1,
   "metadata": {
    "collapsed": false
   },
   "outputs": [
    {
     "name": "stderr",
     "output_type": "stream",
     "text": [
      "Using Theano backend.\n",
      "Using cuDNN version 5110 on context None\n",
      "Mapped name None to device cuda: GeForce GTX 1060 6GB (0000:01:00.0)\n"
     ]
    }
   ],
   "source": [
    "import numpy as np\n",
    "import numpy.ma as ma\n",
    "import pandas as pd\n",
    "\n",
    "from utils.predictorjpg import *"
   ]
  },
  {
   "cell_type": "code",
   "execution_count": 3,
   "metadata": {
    "collapsed": true
   },
   "outputs": [],
   "source": [
    "data_dir = 'D:/Downloads/amazon/'\n",
    "sample_submission_filepath = data_dir + 'sample_submission_v2.csv'\n",
    "real_submission_filepath = data_dir + 'my_submissions/ensemble/mean_ensemble_submission.csv'\n",
    "\n",
    "labels = ['slash_burn', 'clear', 'blooming', 'primary', 'cloudy', 'conventional_mine', 'water', 'haze', 'cultivation', 'partly_cloudy', 'artisinal_mine', 'habitation', 'bare_ground', 'blow_down', 'agriculture', 'road', 'selective_logging']"
   ]
  },
  {
   "cell_type": "code",
   "execution_count": 2,
   "metadata": {
    "collapsed": false
   },
   "outputs": [
    {
     "name": "stdout",
     "output_type": "stream",
     "text": [
      "(61191L, 17L)\n"
     ]
    }
   ],
   "source": [
    "submit_dir = data_dir + 'my_submissions/'\n",
    "\n",
    "vgg19 = np.load(submit_dir + 'tta_submission_vgg19_20170719-113132.csv.h5.npy')\n",
    "resnet50 = np.load(submit_dir + 'tta_submission_resnet50_20170718-085651.csv.h5.npy')\n",
    "vgg16 = np.load(submit_dir + 'tta_submission_vgg16_20170717-171015.csv.h5.npy')\n",
    "densenet121 = np.load(submit_dir + 'tta_submission_densenet121_20170717-161234.csv.h5.npy')\n",
    "\n",
    "aggregation = []\n",
    "aggregation.append(vgg19)\n",
    "aggregation.append(resnet50)\n",
    "aggregation.append(vgg16)\n",
    "aggregation.append(densenet121)\n",
    "\n",
    "avg = np.mean(aggregation, axis=0)\n",
    "print(avg.shape)"
   ]
  },
  {
   "cell_type": "code",
   "execution_count": 4,
   "metadata": {
    "collapsed": false
   },
   "outputs": [
    {
     "name": "stderr",
     "output_type": "stream",
     "text": [
      "100%|██████████████████████████████████████████████████████████████████████████| 61191/61191 [00:57<00:00, 1067.05it/s]\n"
     ]
    }
   ],
   "source": [
    "binary_predictions = (np.array(avg) > 0.2).astype(int)\n",
    "predict_df = pd.DataFrame(binary_predictions, columns = labels)\n",
    "\n",
    "df_submission = pd.read_csv(sample_submission_filepath)\n",
    "submit_df = submission_dataframe(df_submission, predict_df)\n",
    "submit_df.to_csv(real_submission_filepath, index=False)"
   ]
  },
  {
   "cell_type": "code",
   "execution_count": null,
   "metadata": {
    "collapsed": true
   },
   "outputs": [],
   "source": []
  }
 ],
 "metadata": {
  "kernelspec": {
   "display_name": "Python 2",
   "language": "python",
   "name": "python2"
  },
  "language_info": {
   "codemirror_mode": {
    "name": "ipython",
    "version": 2
   },
   "file_extension": ".py",
   "mimetype": "text/x-python",
   "name": "python",
   "nbconvert_exporter": "python",
   "pygments_lexer": "ipython2",
   "version": "2.7.13"
  }
 },
 "nbformat": 4,
 "nbformat_minor": 2
}
